{
 "cells": [
  {
   "cell_type": "markdown",
   "metadata": {
    "deletable": false,
    "editable": false,
    "nbgrader": {
     "checksum": "541d58b0b533cc4cf36571de1f3dbccf",
     "grade": false,
     "grade_id": "cell-609d2abf5d9435a8",
     "locked": true,
     "schema_version": 1,
     "solution": false
    }
   },
   "source": [
    "<img src=\"https://brand.umich.edu/assets/brand/style-guide/logo-guidelines/U-M_Logo-Horizontal-Hex.png\" alt=\"Drawing\" style=\"width: 300px;\" align=\"left\"/><br>\n",
    "    \n",
    "## Week 1: Exploratory data analysis for learning analytics (20pts)\n",
    "\n",
    "Welcome aspiring data scientists!\n",
    "\n",
    "In this course, you will be working with a wide variety of data about students and their learning processes. In each week, you will be tasked with different questions that requires extracting insights from the data, in order to inform future teaching and learning practices. Here's an overview of the next four weeks:\n",
    "\n",
    "\n",
    "| Stage    \t| Task                                             \t| Purpose                                                                                                               \t|\n",
    "|:--------\t|:--------------------------------------------------\t|:------------------------------------------------------------------------------------------------------------------------\t|\n",
    "| Week 1 \t| Exploratory data analysis for learning analytics \t| What are some historical trends in students learning behavior and academic performance?                                \t|\n",
    "| Week 2 \t| Building prediction models of student success    \t| Which students are likely to dropout or fail? Can we build an early at-risk detection model for in time interventions? \t|\n",
    "| Week 3 \t| Investigating the biases of prediction models    \t| Are the prediction models biased toward certain population of students? Are the data biased?                           \t|\n",
    "| Week 4 \t| Building a learning analytics dashboard          \t| How can we communicate learning analytics insights to a non-technical audience (instructors, students, managers)?      \t|\n",
    "\n",
    "\n",
    "\n",
    "**In week 1**, you should familiarize yourself with the datasets, which will be used throughout this course. We will use a public dataset from the Open University Learning Analytics (OULAD). The Open University UK is the largest online distance higher education institution in Europe with over 120,000 enrolled students. This dataset has been used in previous \"hackathons\" at the Learning Analytics Knowledge (LAK) conference, a premier venue for learning analytics research where many Michigan faculty members and researchers have participated in. \n",
    "\n",
    "**Overview of the dataset**\n",
    "\n",
    "The dataset contains the information about 22 courses, 32,593 students, their assessment results, and logs of their interactions with the Virtual Learning Environment (e.g., Moodle) represented by daily summaries of student clicks (10,655,280 entries). \n",
    "\n",
    "**Reference**\n",
    "\n",
    "Kuzilek, J., Hlosta, M., & Zdrahal, Z. (2017). Open university learning analytics dataset. Scientific data, 4, 170171. https://www.nature.com/articles/sdata2017171"
   ]
  },
  {
   "cell_type": "markdown",
   "metadata": {
    "deletable": false,
    "editable": false,
    "nbgrader": {
     "checksum": "d67dba86601ecc71ba935904f51fea01",
     "grade": false,
     "grade_id": "cell-c91fb392b00102c1",
     "locked": true,
     "schema_version": 1,
     "solution": false
    }
   },
   "source": [
    "# Open University Learning Analytics (OULAD) dataset\n",
    "\n",
    "Kuzilek, J., Hlosta, M., & Zdrahal, Z. (2017). Open university learning analytics dataset. Scientific data, 4, 170171. https://www.nature.com/articles/sdata2017171\n",
    "## Data scheme\n",
    "![](https://media.springernature.com/lw685/springer-static/image/art%3A10.1038%2Fsdata.2017.171/MediaObjects/41597_2017_Article_BFsdata2017171_Fig2_HTML.jpg)\n",
    "## Course timeline\n",
    "![](https://media.springernature.com/lw685/springer-static/image/art%3A10.1038%2Fsdata.2017.171/MediaObjects/41597_2017_Article_BFsdata2017171_Fig1_HTML.jpg)\n",
    "## Relational database\n",
    "* A module is a course\n",
    "* A presentation is a semester (e.g., 2019J - Fall 2019, 2019B = Winter 2019)\n",
    "* vle = virtual learning enviroment\n",
    "![](https://analyse.kmi.open.ac.uk/resources/images/model.png)"
   ]
  },
  {
   "cell_type": "markdown",
   "metadata": {
    "deletable": false,
    "editable": false,
    "nbgrader": {
     "checksum": "8f4fc19579a590fe2b5eccc44484c44e",
     "grade": false,
     "grade_id": "1A",
     "locked": true,
     "schema_version": 1,
     "solution": false
    }
   },
   "source": [
    "---\n",
    "\n",
    "## Part A (4 points)\n",
    "Write a function that returns a pandas dataframe that consists of passing rate and dropout rate for each course.   \n",
    "The output data frame should have 4 columns: code_module, code_presentation, passrate, dropoutrate  \n",
    "Note:\n",
    "* The dropout rate should be relative to the total number of enrolled students\n",
    "* The passing rate should be relative to the number students who completed the course (i.e. not Withdrawn)"
   ]
  },
  {
   "cell_type": "code",
   "execution_count": null,
   "metadata": {
    "deletable": false,
    "nbgrader": {
     "checksum": "0917ac09b578e03c83bdce7f700b2da7",
     "grade": false,
     "grade_id": "1A_answer",
     "locked": false,
     "schema_version": 1,
     "solution": true
    }
   },
   "outputs": [],
   "source": [
    "\"\"\"The output data frame should have 4 columns: code_module, code_presentation, pass_rate, dropout_rate\"\"\"\n",
    "\n",
    "import pandas as pd\n",
    "import numpy as np\n",
    "\n",
    "def answer_a():\n",
    "    stdinfo = pd.read_csv('assets/studentInfo.csv')\n",
    "    \n",
    "    # YOUR CODE HERE\n",
    "    raise NotImplementedError()\n",
    "    \n",
    "    return result\n",
    "answer_a().head(5)"
   ]
  },
  {
   "cell_type": "code",
   "execution_count": null,
   "metadata": {
    "deletable": false,
    "editable": false,
    "nbgrader": {
     "checksum": "6d563064fec2aa15ad048785898290ee",
     "grade": true,
     "grade_id": "1A_solution",
     "locked": true,
     "points": 4,
     "schema_version": 1,
     "solution": false
    }
   },
   "outputs": [],
   "source": [
    "import pandas as pd\n",
    "import numpy as np\n",
    "\n",
    "# Check the number of courses\n",
    "assert len(answer_a()) == 22\n",
    "\n",
    "# Check the pass rate of AAA in 2013J\n",
    "actual =  answer_a()[(answer_a()['code_module']=='AAA') &\n",
    "                     (answer_a()['code_presentation']=='2013J')]['pass_rate'][0] \n",
    "desired = 0.860681\n",
    "np.testing.assert_almost_equal(actual, desired, decimal=4, err_msg='', verbose=True)\n"
   ]
  },
  {
   "cell_type": "code",
   "execution_count": null,
   "metadata": {},
   "outputs": [],
   "source": [
    "# let's visualize the courses by passrate and dropout rate\n",
    "# Create a scatter plot\n",
    "import seaborn as sns\n",
    "sns.scatterplot(x=\"pass_rate\", y=\"dropout_rate\", data=answer_a(), hue=\"code_presentation\")"
   ]
  },
  {
   "cell_type": "markdown",
   "metadata": {
    "deletable": false,
    "editable": false,
    "nbgrader": {
     "checksum": "f52d621a5eea68ccdf6dc841d92b0550",
     "grade": false,
     "grade_id": "1B",
     "locked": true,
     "schema_version": 1,
     "solution": false
    }
   },
   "source": [
    "---\n",
    "\n",
    "## Part B (8 points)\n",
    "\n",
    "As course instructor, we would be interested in tracking the level of student engagement on a weekly basis.  \n",
    "Write a function that returns a pandas dataframe that consists of a weekly engagement metric, defined as the **average number of click per student per week** for each course.     \n",
    "The output data frame should have 4 columns: **code_module, code_presentation, week, mean_click**.   \n",
    "Use the following bin range to **convert date to week**. Hint: There are many ways to bin data, one of them is to use np.digitize and np.linspace. \n",
    "\n",
    "\n",
    "| date_bin \t| week \t|\n",
    "|----------\t|------\t|\n",
    "| ...      \t| ...  \t|\n",
    "| [-14,-8] \t| -2   \t|\n",
    "| [-7,-1]  \t| -1   \t|\n",
    "| [0,6]    \t| 1    \t|\n",
    "| [7,13]   \t| 2    \t|\n",
    "| [14,20]  \t| 3    \t|\n",
    "| ...      \t| ...  \t|"
   ]
  },
  {
   "cell_type": "code",
   "execution_count": null,
   "metadata": {
    "deletable": false,
    "nbgrader": {
     "checksum": "97e535c1bb00682a440ba38cf06115c3",
     "grade": false,
     "grade_id": "1B_answer",
     "locked": false,
     "schema_version": 1,
     "solution": true
    }
   },
   "outputs": [],
   "source": [
    "\"\"\"The output data frame should have 4 columns: code_module, code_presentation, week, mean_click\"\"\"\n",
    "import pandas as pd\n",
    "import numpy as np\n",
    "\n",
    "def answer_b():\n",
    "    result = None\n",
    "    # YOUR CODE HERE\n",
    "    raise NotImplementedError()\n",
    "    return result\n",
    "answer_b()"
   ]
  },
  {
   "cell_type": "code",
   "execution_count": null,
   "metadata": {
    "deletable": false,
    "editable": false,
    "nbgrader": {
     "checksum": "b8dcd1aca3aca523eac506dd1b031337",
     "grade": true,
     "grade_id": "1B_solution",
     "locked": true,
     "points": 8,
     "schema_version": 1,
     "solution": false
    }
   },
   "outputs": [],
   "source": [
    "# Autograder tests\n",
    "\n",
    "result_b = answer_b()\n",
    "\n",
    "# Check the length of output\n",
    "assert len(result_b) == 879\n",
    "\n",
    "# Check the mean_click of AAA in 2013J week 1\n",
    "actual =  result_b[(result_b['code_module']=='AAA') &\n",
    "                     (result_b['code_presentation']=='2013J') &\n",
    "                     (result_b['week']==1)]['mean_click'].values\n",
    "desired = 100.771513\n",
    "np.testing.assert_almost_equal(actual, desired, decimal=2)\n",
    "\n",
    "# Check the week\n",
    "if 0 in result_b['week'].unique():\n",
    "    raise AssertionError(\"There should be no week 0 in the dataset, check the instruction\") \n"
   ]
  },
  {
   "cell_type": "code",
   "execution_count": null,
   "metadata": {
    "deletable": false,
    "editable": false,
    "nbgrader": {
     "checksum": "d44814696c83018a1f5efe3b60997789",
     "grade": false,
     "grade_id": "1B_plot",
     "locked": true,
     "schema_version": 1,
     "solution": false
    }
   },
   "outputs": [],
   "source": [
    "# Let's plot the result\n",
    "import seaborn as sns\n",
    "sns.relplot(data=answer_b(), x=\"week\", y=\"mean_click\", col=\"code_module\",hue=\"code_presentation\",\n",
    "            kind=\"line\", col_wrap=4)"
   ]
  },
  {
   "cell_type": "markdown",
   "metadata": {
    "deletable": false,
    "editable": false,
    "nbgrader": {
     "checksum": "92dafce92662db757f6f00ce9e3a6e73",
     "grade": false,
     "grade_id": "1C",
     "locked": true,
     "schema_version": 1,
     "solution": false
    }
   },
   "source": [
    "---\n",
    "\n",
    "## Part C (8 points)\n",
    "\n",
    "As course instructors, we would be interested in tracking the submission rate and the pass rate of each assignment.  \n",
    "Write a function that returns a pandas dataframe that consists of 6 columns: **code_module, code_presentation, id_assessment, assessment_type, submission_rate, pass_rate**.\n",
    "\n",
    "**Submission_rate** is defined as the **number of students who submitted the assignment** divided by the **current number of enrollment**. The **current number of enrollment** changes over time as students **withdraw/unregister**.\n",
    "\n",
    "For example, course A in week 1 has 100 enrolled students, 90 submitted their week 1 assignment, submission rate week 1 = 90%\n",
    "In week 2, 5 students dropped out, so the enrollment number is now 95. Out of 95 students, 85 submitted week 2 assignment, submission rate week 2 = 85/95 = 89.5%\n",
    "\n",
    "**Passing_rate** is defined as the **number of students who submitted the assignment AND achieve score >50** divided by the **number of students who submitted the assignment**.\n",
    "\n",
    "Note: \n",
    "* Replace the missing values in the 'date' column in assessments.csv with 250\n",
    "* Delete row where id_assessment == 40088 & 40087"
   ]
  },
  {
   "cell_type": "code",
   "execution_count": null,
   "metadata": {
    "deletable": false,
    "nbgrader": {
     "checksum": "60d5062507a9a07e40ab79d68874ea0b",
     "grade": false,
     "grade_id": "1C_answer",
     "locked": false,
     "schema_version": 1,
     "solution": true
    }
   },
   "outputs": [],
   "source": [
    "\"\"\"The output data frame should have 6 columns: code_module, code_presentation, id_assessment, assessment_type, submission_rate, pass_rate\"\"\"\n",
    "import pandas as pd\n",
    "import numpy as np\n",
    "\n",
    "def answer_c():\n",
    "    # Import assessments.csv\n",
    "    assessments = pd.read_csv('assets/assessments.csv')\n",
    "    # Data cleaning\n",
    "    assessments[\"date\"] = assessments[\"date\"].fillna(250)\n",
    "    assessments = assessments[(assessments['id_assessment']!=40088) &\n",
    "                              (assessments['id_assessment']!=40087)]\n",
    "    # Import student registration data\n",
    "    stdreg = pd.read_csv('assets/studentRegistration.csv')\n",
    "    # Import student grades\n",
    "    stdgrade = pd.read_csv('assets/studentAssessment.csv')\n",
    "    \n",
    "    # YOUR CODE HERE\n",
    "    raise NotImplementedError()\n",
    "    return result\n",
    "answer_c()"
   ]
  },
  {
   "cell_type": "code",
   "execution_count": null,
   "metadata": {
    "deletable": false,
    "editable": false,
    "nbgrader": {
     "checksum": "f4dda381d85f542bc9edb3f197fc0107",
     "grade": true,
     "grade_id": "1C_solution",
     "locked": true,
     "points": 8,
     "schema_version": 1,
     "solution": false
    }
   },
   "outputs": [],
   "source": [
    "import pandas as pd\n",
    "import numpy as np\n",
    "\n",
    "result_c = answer_c()\n",
    "\n",
    "# Check the length of output\n",
    "assert len(result_c) == 204\n",
    "\n",
    "# Check the submission rate of AAA in 2013J id_assessment==1756\n",
    "actual =  result_c[(result_c['code_module']=='AAA') &\n",
    "                     (result_c['code_presentation']=='2013J') &\n",
    "                     (result_c['id_assessment']==1756)]['submission_rate'].values\n",
    "desired = 0.908537\n",
    "np.testing.assert_almost_equal(actual, desired, decimal=2)\n"
   ]
  }
 ],
 "metadata": {
  "kernelspec": {
   "display_name": "Python 3",
   "language": "python",
   "name": "python3"
  },
  "language_info": {
   "codemirror_mode": {
    "name": "ipython",
    "version": 3
   },
   "file_extension": ".py",
   "mimetype": "text/x-python",
   "name": "python",
   "nbconvert_exporter": "python",
   "pygments_lexer": "ipython3",
   "version": "3.7.3"
  }
 },
 "nbformat": 4,
 "nbformat_minor": 1
}
